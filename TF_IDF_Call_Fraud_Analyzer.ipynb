{
  "metadata": {
    "kernelspec": {
      "language": "python",
      "display_name": "Python 3",
      "name": "python3"
    },
    "language_info": {
      "name": "python",
      "version": "3.10.14",
      "mimetype": "text/x-python",
      "codemirror_mode": {
        "name": "ipython",
        "version": 3
      },
      "pygments_lexer": "ipython3",
      "nbconvert_exporter": "python",
      "file_extension": ".py"
    },
    "kaggle": {
      "accelerator": "none",
      "dataSources": [
        {
          "sourceType": "datasetVersion",
          "sourceId": 7687155,
          "datasetId": 4470693,
          "databundleVersionId": 7785167
        }
      ],
      "dockerImageVersionId": 30786,
      "isInternetEnabled": true,
      "language": "python",
      "sourceType": "notebook",
      "isGpuEnabled": false
    },
    "colab": {
      "name": "TF-IDF Call Fraud Analyzer",
      "provenance": [],
      "include_colab_link": true
    }
  },
  "nbformat_minor": 0,
  "nbformat": 4,
  "cells": [
    {
      "cell_type": "markdown",
      "metadata": {
        "id": "view-in-github",
        "colab_type": "text"
      },
      "source": [
        "<a href=\"https://colab.research.google.com/github/avikagupta03/TF-IDF-Call-Fraud-Analyzer/blob/main/TF_IDF_Call_Fraud_Analyzer.ipynb\" target=\"_parent\"><img src=\"https://colab.research.google.com/assets/colab-badge.svg\" alt=\"Open In Colab\"/></a>"
      ]
    },
    {
      "source": [
        "# IMPORTANT: RUN THIS CELL IN ORDER TO IMPORT YOUR KAGGLE DATA SOURCES,\n",
        "# THEN FEEL FREE TO DELETE THIS CELL.\n",
        "# NOTE: THIS NOTEBOOK ENVIRONMENT DIFFERS FROM KAGGLE'S PYTHON\n",
        "# ENVIRONMENT SO THERE MAY BE MISSING LIBRARIES USED BY YOUR\n",
        "# NOTEBOOK.\n",
        "import kagglehub\n",
        "mealss_call_transcripts_scam_determinations_path = kagglehub.dataset_download('mealss/call-transcripts-scam-determinations')\n",
        "\n",
        "print('Data source import complete.')\n"
      ],
      "metadata": {
        "id": "oWBHfQob6O1r"
      },
      "cell_type": "code",
      "outputs": [],
      "execution_count": null
    },
    {
      "cell_type": "code",
      "source": [
        "import kagglehub\n",
        "\n",
        "# Download latest version\n",
        "path = kagglehub.dataset_download(\"mealss/call-transcripts-scam-determinations\")\n",
        "\n",
        "print(\"Path to dataset files:\", path)"
      ],
      "metadata": {
        "_uuid": "8f2839f25d086af736a60e9eeb907d3b93b6e0e5",
        "_cell_guid": "b1076dfc-b9ad-4769-8c92-a6c4dae69d19",
        "trusted": true,
        "execution": {
          "iopub.status.busy": "2024-11-21T17:58:10.678644Z",
          "iopub.execute_input": "2024-11-21T17:58:10.679481Z",
          "iopub.status.idle": "2024-11-21T17:58:11.266097Z",
          "shell.execute_reply.started": "2024-11-21T17:58:10.679435Z",
          "shell.execute_reply": "2024-11-21T17:58:11.264983Z"
        },
        "id": "zBVRCJRg6O1s",
        "outputId": "ea5ea396-4d5e-463b-e2de-436aa467a4f5"
      },
      "outputs": [
        {
          "name": "stdout",
          "text": "Path to dataset files: /kaggle/input/call-transcripts-scam-determinations\n",
          "output_type": "stream"
        }
      ],
      "execution_count": null
    },
    {
      "cell_type": "code",
      "source": [
        "# Import necessary libraries\n",
        "import pandas as pd\n",
        "import numpy as np\n",
        "import re\n",
        "import nltk\n",
        "from sklearn.model_selection import train_test_split\n",
        "from sklearn.feature_extraction.text import TfidfVectorizer\n",
        "from sklearn.ensemble import RandomForestClassifier\n",
        "from sklearn.metrics import accuracy_score, classification_report, confusion_matrix\n",
        "import matplotlib.pyplot as plt\n",
        "import seaborn as sns"
      ],
      "metadata": {
        "trusted": true,
        "execution": {
          "iopub.status.busy": "2024-11-21T18:01:42.874477Z",
          "iopub.execute_input": "2024-11-21T18:01:42.875694Z",
          "iopub.status.idle": "2024-11-21T18:01:42.880747Z",
          "shell.execute_reply.started": "2024-11-21T18:01:42.875641Z",
          "shell.execute_reply": "2024-11-21T18:01:42.879771Z"
        },
        "id": "8Ex2MIhi6O1t"
      },
      "outputs": [],
      "execution_count": null
    },
    {
      "cell_type": "code",
      "source": [
        "nltk.download('stopwords')\n",
        "from nltk.corpus import stopwords"
      ],
      "metadata": {
        "trusted": true,
        "execution": {
          "iopub.status.busy": "2024-11-21T17:58:11.949602Z",
          "iopub.execute_input": "2024-11-21T17:58:11.950085Z",
          "iopub.status.idle": "2024-11-21T17:58:12.180618Z",
          "shell.execute_reply.started": "2024-11-21T17:58:11.950054Z",
          "shell.execute_reply": "2024-11-21T17:58:12.179559Z"
        },
        "id": "vLyiRb2Z6O1t",
        "outputId": "b7a7784f-b1e6-44f6-b55d-96cb02518047"
      },
      "outputs": [
        {
          "name": "stdout",
          "text": "[nltk_data] Downloading package stopwords to /usr/share/nltk_data...\n[nltk_data]   Package stopwords is already up-to-date!\n",
          "output_type": "stream"
        }
      ],
      "execution_count": null
    },
    {
      "cell_type": "code",
      "source": [
        "file_path = '/kaggle/input/call-transcripts-scam-determinations/BETTER30.csv'  # Replace with the appropriate file path\n",
        "data = pd.read_csv(file_path)"
      ],
      "metadata": {
        "trusted": true,
        "execution": {
          "iopub.status.busy": "2024-11-21T17:58:12.963443Z",
          "iopub.execute_input": "2024-11-21T17:58:12.964376Z",
          "iopub.status.idle": "2024-11-21T17:58:12.977327Z",
          "shell.execute_reply.started": "2024-11-21T17:58:12.964333Z",
          "shell.execute_reply": "2024-11-21T17:58:12.976191Z"
        },
        "id": "LibBebZ06O1u"
      },
      "outputs": [],
      "execution_count": null
    },
    {
      "cell_type": "code",
      "source": [
        "data.info()"
      ],
      "metadata": {
        "trusted": true,
        "execution": {
          "iopub.status.busy": "2024-11-21T17:58:03.905434Z",
          "iopub.execute_input": "2024-11-21T17:58:03.906472Z",
          "iopub.status.idle": "2024-11-21T17:58:03.937523Z",
          "shell.execute_reply.started": "2024-11-21T17:58:03.90642Z",
          "shell.execute_reply": "2024-11-21T17:58:03.936323Z"
        },
        "id": "ECRbz_Ed6O1u",
        "outputId": "2bf35d89-aee4-46f8-c7e6-0e77fc627b79"
      },
      "outputs": [
        {
          "name": "stdout",
          "text": "<class 'pandas.core.frame.DataFrame'>\nRangeIndex: 650 entries, 0 to 649\nData columns (total 7 columns):\n #   Column             Non-Null Count  Dtype \n---  ------             --------------  ----- \n 0   CONVERSATION_ID    650 non-null    int64 \n 1   CONVERSATION_STEP  650 non-null    int64 \n 2   TEXT               650 non-null    object\n 3   CONTEXT            647 non-null    object\n 4   LABEL              650 non-null    object\n 5   FEATURES           571 non-null    object\n 6   ANNOTATIONS        255 non-null    object\ndtypes: int64(2), object(5)\nmemory usage: 35.7+ KB\n",
          "output_type": "stream"
        }
      ],
      "execution_count": null
    },
    {
      "cell_type": "code",
      "source": [
        "\n",
        "# Check the unique values in the 'LABEL' column\n",
        "print(\"Unique values in LABEL column:\", data['LABEL'].unique())\n",
        "\n",
        "# Check the distribution of the target variable (fraud vs non-fraud)\n",
        "print(\"\\nDistribution of 'LABEL' column:\")\n",
        "print(data['LABEL'].value_counts())\n",
        "\n",
        "# Check missing values more specifically\n",
        "print(\"\\nMissing values by column:\")\n",
        "print(data.isnull().sum())"
      ],
      "metadata": {
        "trusted": true,
        "execution": {
          "iopub.status.busy": "2024-11-21T17:58:28.073907Z",
          "iopub.execute_input": "2024-11-21T17:58:28.075171Z",
          "iopub.status.idle": "2024-11-21T17:58:28.085814Z",
          "shell.execute_reply.started": "2024-11-21T17:58:28.075117Z",
          "shell.execute_reply": "2024-11-21T17:58:28.084867Z"
        },
        "id": "ntdRgeJl6O1u",
        "outputId": "cd171334-3cc1-42b7-ffee-ba80cdea3205"
      },
      "outputs": [
        {
          "name": "stdout",
          "text": "Unique values in LABEL column: ['neutral' 'slightly_suspicious' 'suspicious' 'highly_suspicious'\n 'legitimate' 'scam' 'standard_opening, identification_request'\n 'polite_ending' 'potential_scam' ' neutral' ' legitimate' ' scam'\n ' scam_response' ' dismissing official protocols\"'\n ' emphasizing security and compliance\"' ' ready for further engagement\"'\n ' suggesting a dangerous situation\"' 'Scam' ' adhering to protocols\"'\n ' citing urgency\"' 'scam_response']\n\nDistribution of 'LABEL' column:\nLABEL\nneutral                                     158\n scam                                       138\n scam_response                              117\nscam                                         82\nlegitimate                                   43\n neutral                                     35\nsuspicious                                   32\n legitimate                                  14\nslightly_suspicious                           8\npotential_scam                                7\nhighly_suspicious                             3\nscam_response                                 3\n citing urgency\"                              2\npolite_ending                                 1\nstandard_opening, identification_request      1\n dismissing official protocols\"               1\n emphasizing security and compliance\"         1\n ready for further engagement\"                1\n suggesting a dangerous situation\"            1\nScam                                          1\n adhering to protocols\"                       1\nName: count, dtype: int64\n\nMissing values by column:\nCONVERSATION_ID        0\nCONVERSATION_STEP      0\nTEXT                   0\nCONTEXT                3\nLABEL                  0\nFEATURES              79\nANNOTATIONS          395\ndtype: int64\n",
          "output_type": "stream"
        }
      ],
      "execution_count": null
    },
    {
      "cell_type": "code",
      "source": [
        "data['LABEL'] = data['LABEL'].str.lower().str.strip()"
      ],
      "metadata": {
        "trusted": true,
        "execution": {
          "iopub.status.busy": "2024-11-21T17:58:44.965385Z",
          "iopub.execute_input": "2024-11-21T17:58:44.96632Z",
          "iopub.status.idle": "2024-11-21T17:58:44.972114Z",
          "shell.execute_reply.started": "2024-11-21T17:58:44.966278Z",
          "shell.execute_reply": "2024-11-21T17:58:44.971061Z"
        },
        "id": "iplm9LEd6O1u"
      },
      "outputs": [],
      "execution_count": null
    },
    {
      "cell_type": "code",
      "source": [
        "fraudulent_labels = [\n",
        "    \"scam\", \"scam_response\", \"suspicious\", \"potential_scam\",\n",
        "    \"highly_suspicious\", \"slightly_suspicious\", \"citing urgency\",\n",
        "    \"dismissing official protocols\", \"suggesting a dangerous situation\"\n",
        "]"
      ],
      "metadata": {
        "trusted": true,
        "execution": {
          "iopub.status.busy": "2024-11-21T17:58:48.180137Z",
          "iopub.execute_input": "2024-11-21T17:58:48.181038Z",
          "iopub.status.idle": "2024-11-21T17:58:48.18565Z",
          "shell.execute_reply.started": "2024-11-21T17:58:48.180993Z",
          "shell.execute_reply": "2024-11-21T17:58:48.184536Z"
        },
        "id": "LjmeSRpV6O1u"
      },
      "outputs": [],
      "execution_count": null
    },
    {
      "cell_type": "code",
      "source": [
        "non_fraudulent_labels = [\n",
        "    \"neutral\", \"legitimate\", \"polite_ending\", \"standard_opening, identification_request\",\n",
        "    \"adhering to protocols\", \"emphasizing security and compliance\", \"ready for further engagement\"\n",
        "]\n"
      ],
      "metadata": {
        "trusted": true,
        "execution": {
          "iopub.status.busy": "2024-11-21T17:58:48.743248Z",
          "iopub.execute_input": "2024-11-21T17:58:48.743672Z",
          "iopub.status.idle": "2024-11-21T17:58:48.748325Z",
          "shell.execute_reply.started": "2024-11-21T17:58:48.743627Z",
          "shell.execute_reply": "2024-11-21T17:58:48.747399Z"
        },
        "id": "r3MoTNb96O1u"
      },
      "outputs": [],
      "execution_count": null
    },
    {
      "cell_type": "code",
      "source": [
        "data['TARGET'] = data['LABEL'].apply(\n",
        "    lambda x: 1 if x in fraudulent_labels else 0 if x in non_fraudulent_labels else None\n",
        ")"
      ],
      "metadata": {
        "trusted": true,
        "execution": {
          "iopub.status.busy": "2024-11-21T17:58:49.668335Z",
          "iopub.execute_input": "2024-11-21T17:58:49.668723Z",
          "iopub.status.idle": "2024-11-21T17:58:49.67491Z",
          "shell.execute_reply.started": "2024-11-21T17:58:49.668687Z",
          "shell.execute_reply": "2024-11-21T17:58:49.673796Z"
        },
        "id": "AhT_uoZU6O1v"
      },
      "outputs": [],
      "execution_count": null
    },
    {
      "cell_type": "code",
      "source": [
        "data = data.dropna(subset=['TARGET'])"
      ],
      "metadata": {
        "trusted": true,
        "execution": {
          "iopub.status.busy": "2024-11-21T17:58:50.446424Z",
          "iopub.execute_input": "2024-11-21T17:58:50.447283Z",
          "iopub.status.idle": "2024-11-21T17:58:50.457473Z",
          "shell.execute_reply.started": "2024-11-21T17:58:50.447242Z",
          "shell.execute_reply": "2024-11-21T17:58:50.456427Z"
        },
        "id": "WO1LWerw6O1v"
      },
      "outputs": [],
      "execution_count": null
    },
    {
      "cell_type": "code",
      "source": [
        "def clean_text(text):\n",
        "    \"\"\"Preprocess and clean the text data.\"\"\"\n",
        "    text = text.lower()  # Convert to lowercase\n",
        "    text = re.sub(r'[^\\w\\s]', '', text)  # Remove punctuation\n",
        "    text = re.sub(r'\\d+', '', text)  # Remove numbers\n",
        "    text = ' '.join(word for word in text.split() if word not in stopwords.words('english'))  # Remove stopwords\n",
        "    return text"
      ],
      "metadata": {
        "trusted": true,
        "execution": {
          "iopub.status.busy": "2024-11-21T17:58:50.971046Z",
          "iopub.execute_input": "2024-11-21T17:58:50.971406Z",
          "iopub.status.idle": "2024-11-21T17:58:50.977302Z",
          "shell.execute_reply.started": "2024-11-21T17:58:50.971373Z",
          "shell.execute_reply": "2024-11-21T17:58:50.976165Z"
        },
        "id": "Uztbjst_6O1v"
      },
      "outputs": [],
      "execution_count": null
    },
    {
      "cell_type": "code",
      "source": [
        "data['CLEANED_TEXT'] = data['TEXT'].apply(clean_text)"
      ],
      "metadata": {
        "trusted": true,
        "execution": {
          "iopub.status.busy": "2024-11-21T17:58:51.463116Z",
          "iopub.execute_input": "2024-11-21T17:58:51.463487Z",
          "iopub.status.idle": "2024-11-21T17:58:53.037949Z",
          "shell.execute_reply.started": "2024-11-21T17:58:51.463452Z",
          "shell.execute_reply": "2024-11-21T17:58:53.037065Z"
        },
        "id": "T0NvnPr16O1v"
      },
      "outputs": [],
      "execution_count": null
    },
    {
      "cell_type": "code",
      "source": [
        "tfidf = TfidfVectorizer(ngram_range=(1, 2))  # Change to include bigrams\n",
        "X = tfidf.fit_transform(data['CLEANED_TEXT']).toarray()\n",
        "y = data['TARGET']"
      ],
      "metadata": {
        "trusted": true,
        "execution": {
          "iopub.status.busy": "2024-11-21T17:58:53.03954Z",
          "iopub.execute_input": "2024-11-21T17:58:53.039869Z",
          "iopub.status.idle": "2024-11-21T17:58:53.111808Z",
          "shell.execute_reply.started": "2024-11-21T17:58:53.039838Z",
          "shell.execute_reply": "2024-11-21T17:58:53.110412Z"
        },
        "id": "a_HCIFRh6O1v"
      },
      "outputs": [],
      "execution_count": null
    },
    {
      "cell_type": "code",
      "source": [
        "X_train, X_test, y_train, y_test = train_test_split(X, y, test_size=0.2, random_state=42, stratify=y)"
      ],
      "metadata": {
        "trusted": true,
        "execution": {
          "iopub.status.busy": "2024-11-21T17:58:53.113132Z",
          "iopub.execute_input": "2024-11-21T17:58:53.113583Z",
          "iopub.status.idle": "2024-11-21T17:58:53.146415Z",
          "shell.execute_reply.started": "2024-11-21T17:58:53.113537Z",
          "shell.execute_reply": "2024-11-21T17:58:53.145325Z"
        },
        "id": "0LyahqPa6O1v"
      },
      "outputs": [],
      "execution_count": null
    },
    {
      "cell_type": "code",
      "source": [
        "model = RandomForestClassifier(n_estimators=500, random_state=42)\n",
        "model.fit(X_train, y_train)"
      ],
      "metadata": {
        "trusted": true,
        "execution": {
          "iopub.status.busy": "2024-11-21T17:58:53.148317Z",
          "iopub.execute_input": "2024-11-21T17:58:53.148662Z",
          "iopub.status.idle": "2024-11-21T17:58:56.481524Z",
          "shell.execute_reply.started": "2024-11-21T17:58:53.148627Z",
          "shell.execute_reply": "2024-11-21T17:58:56.480491Z"
        },
        "id": "8xRB94zb6O1v",
        "outputId": "8e89036b-0771-43df-e88c-f842569bae64"
      },
      "outputs": [
        {
          "execution_count": 32,
          "output_type": "execute_result",
          "data": {
            "text/plain": "RandomForestClassifier(n_estimators=500, random_state=42)",
            "text/html": "<style>#sk-container-id-1 {color: black;background-color: white;}#sk-container-id-1 pre{padding: 0;}#sk-container-id-1 div.sk-toggleable {background-color: white;}#sk-container-id-1 label.sk-toggleable__label {cursor: pointer;display: block;width: 100%;margin-bottom: 0;padding: 0.3em;box-sizing: border-box;text-align: center;}#sk-container-id-1 label.sk-toggleable__label-arrow:before {content: \"▸\";float: left;margin-right: 0.25em;color: #696969;}#sk-container-id-1 label.sk-toggleable__label-arrow:hover:before {color: black;}#sk-container-id-1 div.sk-estimator:hover label.sk-toggleable__label-arrow:before {color: black;}#sk-container-id-1 div.sk-toggleable__content {max-height: 0;max-width: 0;overflow: hidden;text-align: left;background-color: #f0f8ff;}#sk-container-id-1 div.sk-toggleable__content pre {margin: 0.2em;color: black;border-radius: 0.25em;background-color: #f0f8ff;}#sk-container-id-1 input.sk-toggleable__control:checked~div.sk-toggleable__content {max-height: 200px;max-width: 100%;overflow: auto;}#sk-container-id-1 input.sk-toggleable__control:checked~label.sk-toggleable__label-arrow:before {content: \"▾\";}#sk-container-id-1 div.sk-estimator input.sk-toggleable__control:checked~label.sk-toggleable__label {background-color: #d4ebff;}#sk-container-id-1 div.sk-label input.sk-toggleable__control:checked~label.sk-toggleable__label {background-color: #d4ebff;}#sk-container-id-1 input.sk-hidden--visually {border: 0;clip: rect(1px 1px 1px 1px);clip: rect(1px, 1px, 1px, 1px);height: 1px;margin: -1px;overflow: hidden;padding: 0;position: absolute;width: 1px;}#sk-container-id-1 div.sk-estimator {font-family: monospace;background-color: #f0f8ff;border: 1px dotted black;border-radius: 0.25em;box-sizing: border-box;margin-bottom: 0.5em;}#sk-container-id-1 div.sk-estimator:hover {background-color: #d4ebff;}#sk-container-id-1 div.sk-parallel-item::after {content: \"\";width: 100%;border-bottom: 1px solid gray;flex-grow: 1;}#sk-container-id-1 div.sk-label:hover label.sk-toggleable__label {background-color: #d4ebff;}#sk-container-id-1 div.sk-serial::before {content: \"\";position: absolute;border-left: 1px solid gray;box-sizing: border-box;top: 0;bottom: 0;left: 50%;z-index: 0;}#sk-container-id-1 div.sk-serial {display: flex;flex-direction: column;align-items: center;background-color: white;padding-right: 0.2em;padding-left: 0.2em;position: relative;}#sk-container-id-1 div.sk-item {position: relative;z-index: 1;}#sk-container-id-1 div.sk-parallel {display: flex;align-items: stretch;justify-content: center;background-color: white;position: relative;}#sk-container-id-1 div.sk-item::before, #sk-container-id-1 div.sk-parallel-item::before {content: \"\";position: absolute;border-left: 1px solid gray;box-sizing: border-box;top: 0;bottom: 0;left: 50%;z-index: -1;}#sk-container-id-1 div.sk-parallel-item {display: flex;flex-direction: column;z-index: 1;position: relative;background-color: white;}#sk-container-id-1 div.sk-parallel-item:first-child::after {align-self: flex-end;width: 50%;}#sk-container-id-1 div.sk-parallel-item:last-child::after {align-self: flex-start;width: 50%;}#sk-container-id-1 div.sk-parallel-item:only-child::after {width: 0;}#sk-container-id-1 div.sk-dashed-wrapped {border: 1px dashed gray;margin: 0 0.4em 0.5em 0.4em;box-sizing: border-box;padding-bottom: 0.4em;background-color: white;}#sk-container-id-1 div.sk-label label {font-family: monospace;font-weight: bold;display: inline-block;line-height: 1.2em;}#sk-container-id-1 div.sk-label-container {text-align: center;}#sk-container-id-1 div.sk-container {/* jupyter's `normalize.less` sets `[hidden] { display: none; }` but bootstrap.min.css set `[hidden] { display: none !important; }` so we also need the `!important` here to be able to override the default hidden behavior on the sphinx rendered scikit-learn.org. See: https://github.com/scikit-learn/scikit-learn/issues/21755 */display: inline-block !important;position: relative;}#sk-container-id-1 div.sk-text-repr-fallback {display: none;}</style><div id=\"sk-container-id-1\" class=\"sk-top-container\"><div class=\"sk-text-repr-fallback\"><pre>RandomForestClassifier(n_estimators=500, random_state=42)</pre><b>In a Jupyter environment, please rerun this cell to show the HTML representation or trust the notebook. <br />On GitHub, the HTML representation is unable to render, please try loading this page with nbviewer.org.</b></div><div class=\"sk-container\" hidden><div class=\"sk-item\"><div class=\"sk-estimator sk-toggleable\"><input class=\"sk-toggleable__control sk-hidden--visually\" id=\"sk-estimator-id-1\" type=\"checkbox\" checked><label for=\"sk-estimator-id-1\" class=\"sk-toggleable__label sk-toggleable__label-arrow\">RandomForestClassifier</label><div class=\"sk-toggleable__content\"><pre>RandomForestClassifier(n_estimators=500, random_state=42)</pre></div></div></div></div></div>"
          },
          "metadata": {}
        }
      ],
      "execution_count": null
    },
    {
      "cell_type": "code",
      "source": [
        "y_pred = model.predict(X_test)\n",
        "accuracy = accuracy_score(y_test, y_pred)\n",
        "print(\"Accuracy:\", accuracy)\n",
        "print(\"\\nClassification Report:\\n\", classification_report(y_test, y_pred))\n"
      ],
      "metadata": {
        "trusted": true,
        "execution": {
          "iopub.status.busy": "2024-11-21T17:58:56.483347Z",
          "iopub.execute_input": "2024-11-21T17:58:56.483693Z",
          "iopub.status.idle": "2024-11-21T17:58:56.54239Z",
          "shell.execute_reply.started": "2024-11-21T17:58:56.483658Z",
          "shell.execute_reply": "2024-11-21T17:58:56.541257Z"
        },
        "id": "cFKezueh6O1v",
        "outputId": "766962ae-9481-4f7f-e5e0-7b4f741cb892"
      },
      "outputs": [
        {
          "name": "stdout",
          "text": "Accuracy: 0.8992248062015504\n\nClassification Report:\n               precision    recall  f1-score   support\n\n         0.0       1.00      0.75      0.85        51\n         1.0       0.86      1.00      0.92        78\n\n    accuracy                           0.90       129\n   macro avg       0.93      0.87      0.89       129\nweighted avg       0.91      0.90      0.90       129\n\n",
          "output_type": "stream"
        }
      ],
      "execution_count": null
    },
    {
      "cell_type": "code",
      "source": [
        "conf_matrix = confusion_matrix(y_test, y_pred)\n",
        "plt.figure(figsize=(8, 6))\n",
        "sns.heatmap(conf_matrix, annot=True, fmt='d', cmap='Blues', xticklabels=['Non-Fraud', 'Fraud'], yticklabels=['Non-Fraud', 'Fraud'])\n",
        "plt.xlabel('Predicted')\n",
        "plt.ylabel('Actual')\n",
        "plt.title('Confusion Matrix')\n",
        "plt.show()\n"
      ],
      "metadata": {
        "trusted": true,
        "execution": {
          "iopub.status.busy": "2024-11-21T17:58:56.543714Z",
          "iopub.execute_input": "2024-11-21T17:58:56.544078Z",
          "iopub.status.idle": "2024-11-21T17:58:56.828155Z",
          "shell.execute_reply.started": "2024-11-21T17:58:56.544046Z",
          "shell.execute_reply": "2024-11-21T17:58:56.827177Z"
        },
        "id": "y2oXNeTx6O1v",
        "outputId": "6b5acc72-4dd7-440b-eb7a-e3c9c4f8220a"
      },
      "outputs": [
        {
          "output_type": "display_data",
          "data": {
            "text/plain": "<Figure size 800x600 with 2 Axes>",
            "image/png": "[encoded data removed]"
          },
          "metadata": {}
        }
      ],
      "execution_count": null
    },
    {
      "cell_type": "code",
      "source": [
        "from sklearn.linear_model import LogisticRegression\n",
        "from sklearn.svm import SVC\n",
        "from sklearn.naive_bayes import MultinomialNB\n",
        "from xgboost import XGBClassifier\n",
        "from sklearn.metrics import accuracy_score, classification_report\n",
        "models = {\n",
        "    \"Random Forest\": RandomForestClassifier(n_estimators=100, random_state=42, class_weight={0: 1, 1: 1.2}),\n",
        "    \"Logistic Regression\": LogisticRegression(max_iter=1000, random_state=42, class_weight={0: 1, 1: 1.2}),\n",
        "    \"Support Vector Machine\": SVC(kernel='linear', random_state=42, class_weight={0: 1, 1: 1.2}),\n",
        "    \"Gradient Boosting (XGBoost)\": XGBClassifier(use_label_encoder=False, eval_metric='logloss', random_state=42, scale_pos_weight=1.2),\n",
        "    \"Multinomial Naive Bayes\": MultinomialNB(class_prior=[0.45, 0.55])  # Slightly adjusted prior for fraudulent class\n",
        "}"
      ],
      "metadata": {
        "trusted": true,
        "execution": {
          "iopub.status.busy": "2024-11-21T17:59:36.444802Z",
          "iopub.execute_input": "2024-11-21T17:59:36.445733Z",
          "iopub.status.idle": "2024-11-21T17:59:36.452742Z",
          "shell.execute_reply.started": "2024-11-21T17:59:36.445686Z",
          "shell.execute_reply": "2024-11-21T17:59:36.451567Z"
        },
        "id": "pd3NM1Ro6O1v"
      },
      "outputs": [],
      "execution_count": null
    },
    {
      "cell_type": "code",
      "source": [
        "results= {}"
      ],
      "metadata": {
        "trusted": true,
        "execution": {
          "iopub.status.busy": "2024-11-21T17:59:36.967356Z",
          "iopub.execute_input": "2024-11-21T17:59:36.967754Z",
          "iopub.status.idle": "2024-11-21T17:59:36.972586Z",
          "shell.execute_reply.started": "2024-11-21T17:59:36.967716Z",
          "shell.execute_reply": "2024-11-21T17:59:36.971544Z"
        },
        "id": "BvYEur7D6O1v"
      },
      "outputs": [],
      "execution_count": null
    },
    {
      "cell_type": "code",
      "source": [
        "import pandas as pd\n",
        "\n",
        "# Assuming 'target' is the column containing the labels (1 for fraudulent, 0 for non-fraudulent)\n",
        "class_counts = pd.Series(y).value_counts()  # Count occurrences of each class\n",
        "print(class_counts)\n"
      ],
      "metadata": {
        "trusted": true,
        "execution": {
          "iopub.status.busy": "2024-11-21T17:59:37.593741Z",
          "iopub.execute_input": "2024-11-21T17:59:37.594126Z",
          "iopub.status.idle": "2024-11-21T17:59:37.602954Z",
          "shell.execute_reply.started": "2024-11-21T17:59:37.594091Z",
          "shell.execute_reply": "2024-11-21T17:59:37.601828Z"
        },
        "id": "luBV12sY6O1v",
        "outputId": "e19c589d-6d49-42ca-8667-6f543c5c65e8"
      },
      "outputs": [
        {
          "name": "stdout",
          "text": "TARGET\n1.0    391\n0.0    252\nName: count, dtype: int64\n",
          "output_type": "stream"
        }
      ],
      "execution_count": null
    },
    {
      "cell_type": "code",
      "source": [
        "for model_name, model in models.items():\n",
        "    print(f\"Training and evaluating {model_name}...\")\n",
        "    # Train the model\n",
        "    model.fit(X_train, y_train)\n",
        "\n",
        "    # Make predictions\n",
        "    y_pred = model.predict(X_test)\n",
        "\n",
        "    # Evaluate the model\n",
        "    accuracy = accuracy_score(y_test, y_pred)\n",
        "    results[model_name] = {\n",
        "        \"Accuracy\": accuracy,\n",
        "        \"Classification Report\": classification_report(y_test, y_pred)\n",
        "    }\n"
      ],
      "metadata": {
        "trusted": true,
        "execution": {
          "iopub.status.busy": "2024-11-21T17:59:56.867852Z",
          "iopub.execute_input": "2024-11-21T17:59:56.868247Z",
          "iopub.status.idle": "2024-11-21T17:59:59.752493Z",
          "shell.execute_reply.started": "2024-11-21T17:59:56.86821Z",
          "shell.execute_reply": "2024-11-21T17:59:59.751402Z"
        },
        "id": "kW0YyYK26O1w",
        "outputId": "74138dc0-7ae2-41b0-b0b9-a6fc807209f3"
      },
      "outputs": [
        {
          "name": "stdout",
          "text": "Training and evaluating Random Forest...\nTraining and evaluating Logistic Regression...\nTraining and evaluating Support Vector Machine...\nTraining and evaluating Gradient Boosting (XGBoost)...\nTraining and evaluating Multinomial Naive Bayes...\n",
          "output_type": "stream"
        }
      ],
      "execution_count": null
    },
    {
      "cell_type": "code",
      "source": [
        "print(\"\\nModel Performance Summary:\")\n",
        "for model_name, metrics in results.items():\n",
        "    print(f\"\\n{model_name}:\\n\")\n",
        "    print(f\"Accuracy: {metrics['Accuracy']:.4f}\")\n",
        "    print(\"Classification Report:\")\n",
        "    print(metrics[\"Classification Report\"])"
      ],
      "metadata": {
        "trusted": true,
        "execution": {
          "iopub.status.busy": "2024-11-21T17:59:59.754161Z",
          "iopub.execute_input": "2024-11-21T17:59:59.754555Z",
          "iopub.status.idle": "2024-11-21T17:59:59.765224Z",
          "shell.execute_reply.started": "2024-11-21T17:59:59.75449Z",
          "shell.execute_reply": "2024-11-21T17:59:59.761453Z"
        },
        "id": "QMSjMRom6O1w",
        "outputId": "b1d3d867-8c9d-45a7-df03-8e4c2b421cf7"
      },
      "outputs": [
        {
          "name": "stdout",
          "text": "\nModel Performance Summary:\n\nRandom Forest:\n\nAccuracy: 0.9147\nClassification Report:\n              precision    recall  f1-score   support\n\n         0.0       1.00      0.78      0.88        51\n         1.0       0.88      1.00      0.93        78\n\n    accuracy                           0.91       129\n   macro avg       0.94      0.89      0.91       129\nweighted avg       0.93      0.91      0.91       129\n\n\nLogistic Regression:\n\nAccuracy: 0.8217\nClassification Report:\n              precision    recall  f1-score   support\n\n         0.0       1.00      0.55      0.71        51\n         1.0       0.77      1.00      0.87        78\n\n    accuracy                           0.82       129\n   macro avg       0.89      0.77      0.79       129\nweighted avg       0.86      0.82      0.81       129\n\n\nSupport Vector Machine:\n\nAccuracy: 0.9457\nClassification Report:\n              precision    recall  f1-score   support\n\n         0.0       0.98      0.88      0.93        51\n         1.0       0.93      0.99      0.96        78\n\n    accuracy                           0.95       129\n   macro avg       0.95      0.93      0.94       129\nweighted avg       0.95      0.95      0.95       129\n\n\nGradient Boosting (XGBoost):\n\nAccuracy: 0.8605\nClassification Report:\n              precision    recall  f1-score   support\n\n         0.0       0.80      0.86      0.83        51\n         1.0       0.91      0.86      0.88        78\n\n    accuracy                           0.86       129\n   macro avg       0.85      0.86      0.86       129\nweighted avg       0.86      0.86      0.86       129\n\n\nMultinomial Naive Bayes:\n\nAccuracy: 0.9612\nClassification Report:\n              precision    recall  f1-score   support\n\n         0.0       0.94      0.96      0.95        51\n         1.0       0.97      0.96      0.97        78\n\n    accuracy                           0.96       129\n   macro avg       0.96      0.96      0.96       129\nweighted avg       0.96      0.96      0.96       129\n\n",
          "output_type": "stream"
        }
      ],
      "execution_count": null
    },
    {
      "cell_type": "code",
      "source": [
        "import matplotlib.pyplot as plt"
      ],
      "metadata": {
        "trusted": true,
        "execution": {
          "iopub.status.busy": "2024-11-21T18:00:03.962171Z",
          "iopub.execute_input": "2024-11-21T18:00:03.963229Z",
          "iopub.status.idle": "2024-11-21T18:00:03.967787Z",
          "shell.execute_reply.started": "2024-11-21T18:00:03.963177Z",
          "shell.execute_reply": "2024-11-21T18:00:03.966389Z"
        },
        "id": "iWy5nRAx6O1w"
      },
      "outputs": [],
      "execution_count": null
    },
    {
      "cell_type": "code",
      "source": [
        "model_names = list(results.keys())\n",
        "accuracies = [metrics[\"Accuracy\"] for metrics in results.values()]"
      ],
      "metadata": {
        "trusted": true,
        "execution": {
          "iopub.status.busy": "2024-11-21T18:00:04.319406Z",
          "iopub.execute_input": "2024-11-21T18:00:04.320582Z",
          "iopub.status.idle": "2024-11-21T18:00:04.326154Z",
          "shell.execute_reply.started": "2024-11-21T18:00:04.320523Z",
          "shell.execute_reply": "2024-11-21T18:00:04.324805Z"
        },
        "id": "SPycEulm6O1w"
      },
      "outputs": [],
      "execution_count": null
    },
    {
      "cell_type": "code",
      "source": [
        "plt.figure(figsize=(10, 6))\n",
        "plt.bar(model_names, accuracies, color=['blue', 'green', 'orange', 'purple', 'red'])\n",
        "plt.title(\"Model Accuracy Comparison\")\n",
        "plt.xlabel(\"Model\")\n",
        "plt.ylabel(\"Accuracy\")\n",
        "plt.ylim(0.8, 1.0)  # Set the y-axis range for better visualization\n",
        "plt.xticks(rotation=15)\n",
        "plt.grid(axis='y')\n",
        "plt.show()"
      ],
      "metadata": {
        "trusted": true,
        "execution": {
          "iopub.status.busy": "2024-11-21T18:00:05.58743Z",
          "iopub.execute_input": "2024-11-21T18:00:05.588407Z",
          "iopub.status.idle": "2024-11-21T18:00:05.843122Z",
          "shell.execute_reply.started": "2024-11-21T18:00:05.588364Z",
          "shell.execute_reply": "2024-11-21T18:00:05.842139Z"
        },
        "id": "xcxgC1vV6O1w",
        "outputId": "6dce2376-30d7-4b45-fd65-6ecf32ed27d6"
      },
      "outputs": [
        {
          "output_type": "display_data",
          "data": {
            "text/plain": "<Figure size 1000x600 with 1 Axes>",
            "image/png": "[encoded data removed]"
          },
          "metadata": {}
        }
      ],
      "execution_count": null
    },
    {
      "cell_type": "code",
      "source": [
        "import matplotlib.pyplot as plt\n",
        "\n",
        "plt.figure(figsize=(10, 6))\n",
        "plt.plot(model_names, accuracies, marker='o', color='blue', linestyle='-', linewidth=2)\n",
        "plt.title(\"Model Accuracy Comparison\")\n",
        "plt.xlabel(\"Model\")\n",
        "plt.ylabel(\"Accuracy\")\n",
        "plt.ylim(0.8, 1.0)  # Set the y-axis range for better visualization\n",
        "plt.grid(axis='y')\n",
        "plt.xticks(rotation=15)\n",
        "plt.show()\n"
      ],
      "metadata": {
        "trusted": true,
        "execution": {
          "iopub.status.busy": "2024-11-21T18:00:06.932779Z",
          "iopub.execute_input": "2024-11-21T18:00:06.933166Z",
          "iopub.status.idle": "2024-11-21T18:00:07.198796Z",
          "shell.execute_reply.started": "2024-11-21T18:00:06.933135Z",
          "shell.execute_reply": "2024-11-21T18:00:07.197584Z"
        },
        "id": "GYZxkgW36O1w",
        "outputId": "3d415464-b395-448f-cb6c-374acf31fc07"
      },
      "outputs": [
        {
          "output_type": "display_data",
          "data": {
            "text/plain": "<Figure size 1000x600 with 1 Axes>",
            "image/png": "[encoded data removed]"
          },
          "metadata": {}
        }
      ],
      "execution_count": null
    },
    {
      "cell_type": "code",
      "source": [
        "\n",
        "import re\n",
        "from nltk.corpus import stopwords\n",
        "nltk.download('stopwords')\n",
        "\n",
        "\n",
        "# Function to preprocess user input\n",
        "def preprocess_text(text):\n",
        "    \"\"\"Clean and preprocess the user input text.\"\"\"\n",
        "    text = text.lower()  # Convert to lowercase\n",
        "    text = re.sub(r'[^\\w\\s]', '', text)  # Remove punctuation\n",
        "    text = re.sub(r'\\d+', '', text)  # Remove numbers\n",
        "    text = ' '.join(word for word in text.split() if word not in stopwords.words('english'))  # Remove stopwords\n",
        "    return text\n",
        "\n",
        "# Function to predict fraud status\n",
        "def predict_fraud(model, text):\n",
        "    \"\"\"Predict if the input text represents a fraudulent call.\"\"\"\n",
        "    cleaned_text = preprocess_text(text)\n",
        "    features = tfidf.transform([cleaned_text])  # Vectorize the input text\n",
        "    prediction = model.predict(features)[0]  # Predict using the chosen model\n",
        "    return \"Fraudulent\" if prediction == 1 else \"Non-Fraudulent\"\n",
        "\n",
        "# Interactive input\n",
        "print(\"Fraud Call Detection System\")\n",
        "print(\"Choose a model to use for prediction:\")\n",
        "for i, name in enumerate(models.keys(), 1):\n",
        "    print(f\"{i}. {name}\")\n",
        "\n",
        "model_choice = int(input(\"\\nEnter the number corresponding to your choice: \"))\n",
        "chosen_model_name = list(models.keys())[model_choice - 1]\n",
        "chosen_model = models[chosen_model_name]\n",
        "\n",
        "print(f\"\\nUsing {chosen_model_name} for predictions.\")\n",
        "print(\"Enter a call transcript below. Type 'exit' to quit.\")\n",
        "while True:\n",
        "    user_input = input(\"\\nEnter Call Transcript: \")\n",
        "    if user_input.lower() == 'exit':\n",
        "        print(\"Exiting the system. Goodbye!\")\n",
        "        break\n",
        "    result = predict_fraud(chosen_model, user_input)\n",
        "    print(f\"Prediction ({chosen_model_name}): {result}\")\n"
      ],
      "metadata": {
        "trusted": true,
        "execution": {
          "iopub.status.busy": "2024-11-21T18:00:20.964164Z",
          "iopub.execute_input": "2024-11-21T18:00:20.964998Z",
          "iopub.status.idle": "2024-11-21T18:00:26.107571Z",
          "shell.execute_reply.started": "2024-11-21T18:00:20.964946Z",
          "shell.execute_reply": "2024-11-21T18:00:26.106589Z"
        },
        "id": "zvWqEGWW6O1w",
        "outputId": "ed7633ff-ecaa-4ef2-dc72-0133d9f010bb"
      },
      "outputs": [
        {
          "name": "stdout",
          "text": "[nltk_data] Downloading package stopwords to /usr/share/nltk_data...\n[nltk_data]   Package stopwords is already up-to-date!\nFraud Call Detection System\nChoose a model to use for prediction:\n1. Random Forest\n2. Logistic Regression\n3. Support Vector Machine\n4. Gradient Boosting (XGBoost)\n5. Multinomial Naive Bayes\n",
          "output_type": "stream"
        },
        {
          "output_type": "stream",
          "name": "stdin",
          "text": "\nEnter the number corresponding to your choice:  1\n"
        },
        {
          "name": "stdout",
          "text": "\nUsing Random Forest for predictions.\nEnter a call transcript below. Type 'exit' to quit.\n",
          "output_type": "stream"
        },
        {
          "output_type": "stream",
          "name": "stdin",
          "text": "\nEnter Call Transcript:  hey\n"
        },
        {
          "name": "stdout",
          "text": "Prediction (Random Forest): Fraudulent\n",
          "output_type": "stream"
        },
        {
          "output_type": "stream",
          "name": "stdin",
          "text": "\nEnter Call Transcript:  exit\n"
        },
        {
          "name": "stdout",
          "text": "Exiting the system. Goodbye!\n",
          "output_type": "stream"
        }
      ],
      "execution_count": null
    },
    {
      "cell_type": "code",
      "source": [
        "\n",
        "import re\n",
        "from nltk.corpus import stopwords\n",
        "nltk.download('stopwords')\n",
        "\n",
        "\n",
        "# Function to preprocess user input\n",
        "def preprocess_text(text):\n",
        "    \"\"\"Clean and preprocess the user input text.\"\"\"\n",
        "    text = text.lower()  # Convert to lowercase\n",
        "    text = re.sub(r'[^\\w\\s]', '', text)  # Remove punctuation\n",
        "    text = re.sub(r'\\d+', '', text)  # Remove numbers\n",
        "    text = ' '.join(word for word in text.split() if word not in stopwords.words('english'))  # Remove stopwords\n",
        "    return text\n",
        "\n",
        "# Function to predict fraud status\n",
        "def predict_fraud(model, text):\n",
        "    \"\"\"Predict if the input text represents a fraudulent call.\"\"\"\n",
        "    cleaned_text = preprocess_text(text)\n",
        "    features = tfidf.transform([cleaned_text])  # Vectorize the input text\n",
        "    prediction = model.predict(features)[0]  # Predict using the chosen model\n",
        "    return \"Fraudulent\" if prediction == 1 else \"Non-Fraudulent\"\n",
        "\n",
        "# Interactive input\n",
        "print(\"Fraud Call Detection System\")\n",
        "print(\"Choose a model to use for prediction:\")\n",
        "for i, name in enumerate(models.keys(), 1):\n",
        "    print(f\"{i}. {name}\")\n",
        "\n",
        "model_choice = int(input(\"\\nEnter the number corresponding to your choice: \"))\n",
        "chosen_model_name = list(models.keys())[model_choice - 1]\n",
        "chosen_model = models[chosen_model_name]\n",
        "\n",
        "print(f\"\\nUsing {chosen_model_name} for predictions.\")\n",
        "print(\"Enter a call transcript below. Type 'exit' to quit.\")\n",
        "while True:\n",
        "    user_input = input(\"\\nEnter Call Transcript: \")\n",
        "    if user_input.lower() == 'exit':\n",
        "        print(\"Exiting the system. Goodbye!\")\n",
        "        break\n",
        "    result = predict_fraud(chosen_model, user_input)\n",
        "    print(f\"Prediction ({chosen_model_name}): {result}\")\n"
      ],
      "metadata": {
        "trusted": true,
        "execution": {
          "iopub.status.busy": "2024-11-21T16:39:25.543904Z",
          "iopub.execute_input": "2024-11-21T16:39:25.54433Z",
          "iopub.status.idle": "2024-11-21T16:43:25.553214Z",
          "shell.execute_reply.started": "2024-11-21T16:39:25.544269Z",
          "shell.execute_reply": "2024-11-21T16:43:25.552075Z"
        },
        "id": "pd6uR03i6O1w",
        "outputId": "10c8e40e-bb28-489b-f47b-57e679747c6d"
      },
      "outputs": [
        {
          "name": "stdout",
          "text": "[nltk_data] Downloading package stopwords to /usr/share/nltk_data...\n[nltk_data]   Package stopwords is already up-to-date!\nFraud Call Detection System\nChoose a model to use for prediction:\n1. Random Forest\n2. Logistic Regression\n3. Support Vector Machine\n4. Gradient Boosting (XGBoost)\n5. Multinomial Naive Bayes\n",
          "output_type": "stream"
        },
        {
          "output_type": "stream",
          "name": "stdin",
          "text": "\nEnter the number corresponding to your choice:  1\n"
        },
        {
          "name": "stdout",
          "text": "\nUsing Random Forest for predictions.\nEnter a call transcript below. Type 'exit' to quit.\n",
          "output_type": "stream"
        },
        {
          "output_type": "stream",
          "name": "stdin",
          "text": "\nEnter Call Transcript:  Hello, this is a call from your bank. We noticed some unusual activity on your account and need you to verify your details. Please press 1 to proceed\n"
        },
        {
          "name": "stdout",
          "text": "Prediction (Random Forest): Fraudulent\n",
          "output_type": "stream"
        },
        {
          "output_type": "stream",
          "name": "stdin",
          "text": "\nEnter Call Transcript:  bye\n"
        },
        {
          "name": "stdout",
          "text": "Prediction (Random Forest): Fraudulent\n",
          "output_type": "stream"
        },
        {
          "output_type": "stream",
          "name": "stdin",
          "text": "\nEnter Call Transcript:  hello\n"
        },
        {
          "name": "stdout",
          "text": "Prediction (Random Forest): Fraudulent\n",
          "output_type": "stream"
        },
        {
          "output_type": "stream",
          "name": "stdin",
          "text": "\nEnter Call Transcript:  exit\n"
        },
        {
          "name": "stdout",
          "text": "Exiting the system. Goodbye!\n",
          "output_type": "stream"
        }
      ],
      "execution_count": null
    },
    {
      "cell_type": "code",
      "source": [
        "\n",
        "import re\n",
        "from nltk.corpus import stopwords\n",
        "nltk.download('stopwords')\n",
        "\n",
        "\n",
        "# Function to preprocess user input\n",
        "def preprocess_text(text):\n",
        "    \"\"\"Clean and preprocess the user input text.\"\"\"\n",
        "    text = text.lower()  # Convert to lowercase\n",
        "    text = re.sub(r'[^\\w\\s]', '', text)  # Remove punctuation\n",
        "    text = re.sub(r'\\d+', '', text)  # Remove numbers\n",
        "    text = ' '.join(word for word in text.split() if word not in stopwords.words('english'))  # Remove stopwords\n",
        "    return text\n",
        "\n",
        "# Function to predict fraud status\n",
        "def predict_fraud(model, text):\n",
        "    cleaned_text = preprocess_text(text)\n",
        "    features = tfidf.transform([cleaned_text]).toarray()  # Ensure dense input\n",
        "    prediction = model.predict(features)[0]  # Predict using the chosen model\n",
        "    return \"Fraudulent\" if prediction == 1 else \"Non-Fraudulent\"\n",
        "\n",
        "\n",
        "# Interactive input\n",
        "print(\"Fraud Call Detection System\")\n",
        "print(\"Choose a model to use for prediction:\")\n",
        "for i, name in enumerate(models.keys(), 1):\n",
        "    print(f\"{i}. {name}\")\n",
        "\n",
        "model_choice = int(input(\"\\nEnter the number corresponding to your choice: \"))\n",
        "chosen_model_name = list(models.keys())[model_choice - 1]\n",
        "chosen_model = models[chosen_model_name]\n",
        "\n",
        "print(f\"\\nUsing {chosen_model_name} for predictions.\")\n",
        "print(\"Enter a call transcript below. Type 'exit' to quit.\")\n",
        "while True:\n",
        "    user_input = input(\"\\nEnter Call Transcript: \")\n",
        "    if user_input.lower() == 'exit':\n",
        "        print(\"Exiting the system. Goodbye!\")\n",
        "        break\n",
        "    result = predict_fraud(chosen_model, user_input)\n",
        "    print(f\"Prediction ({chosen_model_name}): {result}\")\n"
      ],
      "metadata": {
        "trusted": true,
        "execution": {
          "iopub.status.busy": "2024-11-21T16:43:30.159243Z",
          "iopub.execute_input": "2024-11-21T16:43:30.159728Z",
          "iopub.status.idle": "2024-11-21T16:43:41.336254Z",
          "shell.execute_reply.started": "2024-11-21T16:43:30.159692Z",
          "shell.execute_reply": "2024-11-21T16:43:41.335062Z"
        },
        "id": "Hs0w48R66O1w",
        "outputId": "a96fc62b-34b3-4167-913d-c0914027cdfb"
      },
      "outputs": [
        {
          "name": "stdout",
          "text": "[nltk_data] Downloading package stopwords to /usr/share/nltk_data...\n[nltk_data]   Package stopwords is already up-to-date!\nFraud Call Detection System\nChoose a model to use for prediction:\n1. Random Forest\n2. Logistic Regression\n3. Support Vector Machine\n4. Gradient Boosting (XGBoost)\n5. Multinomial Naive Bayes\n",
          "output_type": "stream"
        },
        {
          "output_type": "stream",
          "name": "stdin",
          "text": "\nEnter the number corresponding to your choice:  2\n"
        },
        {
          "name": "stdout",
          "text": "\nUsing Logistic Regression for predictions.\nEnter a call transcript below. Type 'exit' to quit.\n",
          "output_type": "stream"
        },
        {
          "output_type": "stream",
          "name": "stdin",
          "text": "\nEnter Call Transcript:  hey\n"
        },
        {
          "name": "stdout",
          "text": "Prediction (Logistic Regression): Fraudulent\n",
          "output_type": "stream"
        },
        {
          "output_type": "stream",
          "name": "stdin",
          "text": "\nEnter Call Transcript:  bye\n"
        },
        {
          "name": "stdout",
          "text": "Prediction (Logistic Regression): Fraudulent\n",
          "output_type": "stream"
        },
        {
          "output_type": "stream",
          "name": "stdin",
          "text": "\nEnter Call Transcript:  hay\n"
        },
        {
          "name": "stdout",
          "text": "Prediction (Logistic Regression): Fraudulent\n",
          "output_type": "stream"
        },
        {
          "output_type": "stream",
          "name": "stdin",
          "text": "\nEnter Call Transcript:  exit\n"
        },
        {
          "name": "stdout",
          "text": "Exiting the system. Goodbye!\n",
          "output_type": "stream"
        }
      ],
      "execution_count": null
    },
    {
      "cell_type": "code",
      "source": [
        "\n",
        "import re\n",
        "from nltk.corpus import stopwords\n",
        "nltk.download('stopwords')\n",
        "\n",
        "\n",
        "# Function to preprocess user input\n",
        "def preprocess_text(text):\n",
        "    \"\"\"Clean and preprocess the user input text.\"\"\"\n",
        "    text = text.lower()  # Convert to lowercase\n",
        "    text = re.sub(r'[^\\w\\s]', '', text)  # Remove punctuation\n",
        "    text = re.sub(r'\\d+', '', text)  # Remove numbers\n",
        "    text = ' '.join(word for word in text.split() if word not in stopwords.words('english'))  # Remove stopwords\n",
        "    return text\n",
        "\n",
        "# Function to predict fraud status\n",
        "def predict_fraud(model, text):\n",
        "    cleaned_text = preprocess_text(text)\n",
        "    features = tfidf.transform([cleaned_text]).toarray()  # Ensure dense input\n",
        "    prediction = model.predict(features)[0]  # Predict using the chosen model\n",
        "    return \"Fraudulent\" if prediction == 1 else \"Non-Fraudulent\"\n",
        "\n",
        "\n",
        "# Interactive input\n",
        "print(\"Fraud Call Detection System\")\n",
        "print(\"Choose a model to use for prediction:\")\n",
        "for i, name in enumerate(models.keys(), 1):\n",
        "    print(f\"{i}. {name}\")\n",
        "\n",
        "model_choice = int(input(\"\\nEnter the number corresponding to your choice: \"))\n",
        "chosen_model_name = list(models.keys())[model_choice - 1]\n",
        "chosen_model = models[chosen_model_name]\n",
        "\n",
        "print(f\"\\nUsing {chosen_model_name} for predictions.\")\n",
        "print(\"Enter a call transcript below. Type 'exit' to quit.\")\n",
        "while True:\n",
        "    user_input = input(\"\\nEnter Call Transcript: \")\n",
        "    if user_input.lower() == 'exit':\n",
        "        print(\"Exiting the system. Goodbye!\")\n",
        "        break\n",
        "    result = predict_fraud(chosen_model, user_input)\n",
        "    print(f\"Prediction ({chosen_model_name}): {result}\")\n"
      ],
      "metadata": {
        "trusted": true,
        "execution": {
          "iopub.status.busy": "2024-11-21T16:25:44.510333Z",
          "iopub.execute_input": "2024-11-21T16:25:44.510754Z",
          "iopub.status.idle": "2024-11-21T16:29:46.529579Z",
          "shell.execute_reply.started": "2024-11-21T16:25:44.510721Z",
          "shell.execute_reply": "2024-11-21T16:29:46.528394Z"
        },
        "id": "AaTqBR0l6O1w",
        "outputId": "35766b93-24ca-47e3-872a-dbf1dbdaa299"
      },
      "outputs": [
        {
          "name": "stdout",
          "text": "[nltk_data] Downloading package stopwords to /usr/share/nltk_data...\n[nltk_data]   Package stopwords is already up-to-date!\nFraud Call Detection System\nChoose a model to use for prediction:\n1. Random Forest\n2. Logistic Regression\n3. Support Vector Machine\n4. Gradient Boosting (XGBoost)\n5. Multinomial Naive Bayes\n",
          "output_type": "stream"
        },
        {
          "output_type": "stream",
          "name": "stdin",
          "text": "\nEnter the number corresponding to your choice:  5\n"
        },
        {
          "name": "stdout",
          "text": "\nUsing Multinomial Naive Bayes for predictions.\nEnter a call transcript below. Type 'exit' to quit.\n",
          "output_type": "stream"
        },
        {
          "output_type": "stream",
          "name": "stdin",
          "text": "\nEnter Call Transcript:  bye\n"
        },
        {
          "name": "stdout",
          "text": "Prediction (Multinomial Naive Bayes): Fraudulent\n",
          "output_type": "stream"
        },
        {
          "output_type": "stream",
          "name": "stdin",
          "text": "\nEnter Call Transcript:  hello\n"
        },
        {
          "name": "stdout",
          "text": "Prediction (Multinomial Naive Bayes): Non-Fraudulent\n",
          "output_type": "stream"
        },
        {
          "output_type": "stream",
          "name": "stdin",
          "text": "\nEnter Call Transcript:  click on link\n"
        },
        {
          "name": "stdout",
          "text": "Prediction (Multinomial Naive Bayes): Non-Fraudulent\n",
          "output_type": "stream"
        },
        {
          "output_type": "stream",
          "name": "stdin",
          "text": "\nEnter Call Transcript:  money  link\n"
        },
        {
          "name": "stdout",
          "text": "Prediction (Multinomial Naive Bayes): Fraudulent\n",
          "output_type": "stream"
        },
        {
          "output_type": "stream",
          "name": "stdin",
          "text": "\nEnter Call Transcript:  exit\n"
        },
        {
          "name": "stdout",
          "text": "Exiting the system. Goodbye!\n",
          "output_type": "stream"
        }
      ],
      "execution_count": null
    },
    {
      "cell_type": "code",
      "source": [],
      "metadata": {
        "trusted": true,
        "execution": {
          "iopub.status.busy": "2024-11-21T16:51:27.210453Z",
          "iopub.execute_input": "2024-11-21T16:51:27.210869Z",
          "iopub.status.idle": "2024-11-21T16:51:27.270115Z",
          "shell.execute_reply.started": "2024-11-21T16:51:27.210838Z",
          "shell.execute_reply": "2024-11-21T16:51:27.26897Z"
        },
        "id": "5M4-5GDF6O1w"
      },
      "outputs": [],
      "execution_count": null
    },
    {
      "cell_type": "code",
      "source": [
        "from sklearn.metrics import classification_report\n",
        "\n",
        "# After training your model:\n",
        "y_pred = model.predict(X_test)\n",
        "print(classification_report(y_test, y_pred))\n"
      ],
      "metadata": {
        "trusted": true,
        "execution": {
          "iopub.status.busy": "2024-11-21T16:51:27.822274Z",
          "iopub.execute_input": "2024-11-21T16:51:27.822718Z",
          "iopub.status.idle": "2024-11-21T16:51:27.845046Z",
          "shell.execute_reply.started": "2024-11-21T16:51:27.822681Z",
          "shell.execute_reply": "2024-11-21T16:51:27.843381Z"
        },
        "id": "NnnPDvYh6O1x",
        "outputId": "13a8ba74-4fec-4a12-c4d8-adf56f749954"
      },
      "outputs": [
        {
          "name": "stdout",
          "text": "              precision    recall  f1-score   support\n\n         0.0       0.95      0.87      0.91        83\n         1.0       0.91      0.96      0.93       110\n\n    accuracy                           0.92       193\n   macro avg       0.93      0.92      0.92       193\nweighted avg       0.92      0.92      0.92       193\n\n",
          "output_type": "stream"
        }
      ],
      "execution_count": null
    },
    {
      "cell_type": "markdown",
      "source": [
        "Example testing"
      ],
      "metadata": {
        "id": "hG8NSadL6O1x"
      }
    },
    {
      "cell_type": "code",
      "source": [
        "# Example training data (replace with your actual training data)\n",
        "X_train = [\n",
        "    \"Suspicious activity detected on your bank account. Please verify your details.\",\n",
        "    \"Hello, thank you for your call to customer support. How can I assist you?\",\n",
        "    \"Your bank account has been compromised. Please call us back immediately.\",\n",
        "    \"This is a reminder for your recent order. Do you need assistance?\"\n",
        "]\n",
        "y_train = [1, 0, 1, 0]  # Corresponding labels (1 = Fraudulent, 0 = Non-Fraudulent)\n",
        "\n",
        "# Fit the TF-IDF Vectorizer on your training data\n",
        "tfidf = TfidfVectorizer(stop_words='english')\n",
        "X_train_tfidf = tfidf.fit_transform(X_train)  # Fit and transform training data\n",
        "\n",
        "# Initialize models with class weights\n",
        "models = {\n",
        "    \"Random Forest\": RandomForestClassifier(n_estimators=100, random_state=42, class_weight={0: 0.6, 1: 0.4}),\n",
        "    \"Logistic Regression\": LogisticRegression(max_iter=1000, random_state=42, class_weight={0: 0.6, 1: 0.4}),\n",
        "    \"Support Vector Machine\": SVC(kernel='linear', random_state=42, class_weight={0: 0.6, 1: 0.4}),\n",
        "    \"Gradient Boosting (XGBoost)\": XGBClassifier(use_label_encoder=False, eval_metric='logloss', random_state=42),\n",
        "    \"Multinomial Naive Bayes\": MultinomialNB(class_prior=[0.6, 0.4])\n",
        "}\n",
        "# Fit the models on the training data\n",
        "for model_name, model in models.items():\n",
        "    model.fit(X_train_tfidf, y_train)  # Fit each model on the training data\n",
        "\n",
        "# Example input texts for prediction\n",
        "input_texts = [\n",
        "    \"This is a call from your bank regarding suspicious activity on your account. Please press 1 to verify your information.\",\n",
        "    \"Hello, this is a customer support call regarding your recent inquiry. How can I assist you today?\"\n",
        "]\n",
        "\n",
        "# Define the function to predict fraud\n",
        "def predict_fraud(model, text):\n",
        "    cleaned_text = text  # Apply any text preprocessing here if needed\n",
        "    features = tfidf.transform([cleaned_text])  # Transform the cleaned text to feature vector\n",
        "    prediction = model.predict(features)  # Get model prediction\n",
        "    return \"Fraudulent\" if prediction[0] == 1 else \"Non-Fraudulent\"\n",
        "\n",
        "# Loop through the models and predict for each input text\n",
        "for text in input_texts:\n",
        "    print(f\"Input: {text}\\n\")\n",
        "    for model_name, model in models.items():\n",
        "        prediction = predict_fraud(model, text)\n",
        "        print(f\"{model_name} Prediction: {prediction}\")\n",
        "    print(\"\\n\" + \"-\"*50 + \"\\n\")\n"
      ],
      "metadata": {
        "trusted": true,
        "execution": {
          "iopub.status.busy": "2024-11-21T17:53:04.013335Z",
          "iopub.execute_input": "2024-11-21T17:53:04.014461Z",
          "iopub.status.idle": "2024-11-21T17:53:04.211025Z",
          "shell.execute_reply.started": "2024-11-21T17:53:04.014416Z",
          "shell.execute_reply": "2024-11-21T17:53:04.210247Z"
        },
        "id": "k3FScYeQ6O1x",
        "outputId": "7c4f6181-f0ab-4c53-d9aa-9a3d0736e886"
      },
      "outputs": [
        {
          "name": "stdout",
          "text": "Input: This is a call from your bank regarding suspicious activity on your account. Please press 1 to verify your information.\n\nRandom Forest Prediction: Fraudulent\nLogistic Regression Prediction: Non-Fraudulent\nSupport Vector Machine Prediction: Non-Fraudulent\nGradient Boosting (XGBoost) Prediction: Non-Fraudulent\nMultinomial Naive Bayes Prediction: Fraudulent\n\n--------------------------------------------------\n\nInput: Hello, this is a customer support call regarding your recent inquiry. How can I assist you today?\n\nRandom Forest Prediction: Non-Fraudulent\nLogistic Regression Prediction: Non-Fraudulent\nSupport Vector Machine Prediction: Non-Fraudulent\nGradient Boosting (XGBoost) Prediction: Non-Fraudulent\nMultinomial Naive Bayes Prediction: Non-Fraudulent\n\n--------------------------------------------------\n\n",
          "output_type": "stream"
        }
      ],
      "execution_count": null
    }
  ]
}